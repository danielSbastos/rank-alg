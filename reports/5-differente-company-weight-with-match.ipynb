{
 "cells": [
  {
   "cell_type": "code",
   "execution_count": 1,
   "metadata": {},
   "outputs": [],
   "source": [
    "import math\n",
    "import itertools"
   ]
  },
  {
   "cell_type": "code",
   "execution_count": 2,
   "metadata": {},
   "outputs": [],
   "source": [
    "enum = { \"nada\": 0, \"básico\": 1, \"médio\": 2, \"avançado\": 3 }\n",
    "inverse_enum = { 0: \"nada\", 1: \"básico\", 2: \"médio\", 3: \"avançado\" }\n",
    "x = [enum[\"nada\"],\n",
    "    enum[\"básico\"],\n",
    "    enum[\"médio\"],\n",
    "    enum[\"avançado\"]]\n",
    "\n",
    "\n",
    "r = [p for p in itertools.product(x, repeat=3)]\n",
    "\n",
    "r = list(r)"
   ]
  },
  {
   "cell_type": "code",
   "execution_count": 41,
   "metadata": {},
   "outputs": [],
   "source": [
    "import pandas"
   ]
  },
  {
   "cell_type": "code",
   "execution_count": 615,
   "metadata": {},
   "outputs": [],
   "source": [
    "def sim_6(i, j = (0, 0, 0)):\n",
    "    numerator = 0\n",
    "    denominator = 0\n",
    "    \n",
    "    for _i, _j in list(zip(i, j)):\n",
    "        #C = 1 + ((_j) / 3)*0.5\n",
    "        #C = 1.5\n",
    "        denominator += ((_j+1)/4)*(C**(_i-3))\n",
    "        numerator += ((_i*(_j+1))/12)*((C**(_i-3)))\n",
    "        \n",
    "    return {\n",
    "        \"Excel\": inverse_enum[i[0]],\n",
    "        \"PPT\": inverse_enum[i[1]],\n",
    "        \"Word\": inverse_enum[i[2]],\n",
    "        \"Similaridade\": numerator / denominator\n",
    "    }"
   ]
  },
  {
   "cell_type": "code",
   "execution_count": 626,
   "metadata": {},
   "outputs": [],
   "source": [
    "def sim_matching(i, j = [0, 2, 3]):\n",
    "    numerator = 0\n",
    "    denominator = 0\n",
    "    \n",
    "    for _i, _j in list(zip(i, j)):\n",
    "        #C = 1 + (((3-_j) / 3)*0.5)\n",
    "        C = 1.5\n",
    "        denominator += (C**(_i-3))        \n",
    "        numerator += ((_i - _j)/3)*((C**(_i-3)))\n",
    " \n",
    "    return {\n",
    "        \"Excel\": inverse_enum[i[0]],\n",
    "        \"PPT\": inverse_enum[i[1]],\n",
    "        \"Word\": inverse_enum[i[2]],\n",
    "        \"Similaridade\": numerator / denominator\n",
    "    }"
   ]
  },
  {
   "cell_type": "code",
   "execution_count": 627,
   "metadata": {
    "scrolled": true
   },
   "outputs": [
    {
     "name": "stdout",
     "output_type": "stream",
     "text": [
      "\\begin{tabular}{llllr}\n",
      "\\toprule\n",
      "{} &     Excel &       PPT &      Word &  Similaridade \\\\\n",
      "\\midrule\n",
      "0  &      nada &      nada &      nada &     -0.555556 \\\\\n",
      "1  &      nada &      nada &    básico &     -0.476190 \\\\\n",
      "2  &      nada &    básico &      nada &     -0.428571 \\\\\n",
      "3  &      nada &    básico &    básico &     -0.375000 \\\\\n",
      "4  &      nada &      nada &     médio &     -0.333333 \\\\\n",
      "5  &    básico &      nada &      nada &     -0.333333 \\\\\n",
      "6  &    básico &      nada &    básico &     -0.291667 \\\\\n",
      "7  &      nada &    básico &     médio &     -0.263158 \\\\\n",
      "8  &    básico &    básico &      nada &     -0.250000 \\\\\n",
      "9  &      nada &     médio &      nada &     -0.235294 \\\\\n",
      "10 &    básico &    básico &    básico &     -0.222222 \\\\\n",
      "11 &      nada &     médio &    básico &     -0.210526 \\\\\n",
      "12 &    básico &      nada &     médio &     -0.192982 \\\\\n",
      "13 &    básico &    básico &     médio &     -0.142857 \\\\\n",
      "14 &      nada &     médio &     médio &     -0.136364 \\\\\n",
      "15 &      nada &      nada &  avançado &     -0.124031 \\\\\n",
      "16 &    básico &     médio &      nada &     -0.105263 \\\\\n",
      "17 &    básico &     médio &    básico &     -0.095238 \\\\\n",
      "18 &      nada &    básico &  avançado &     -0.085106 \\\\\n",
      "19 &    básico &     médio &     médio &     -0.041667 \\\\\n",
      "20 &     médio &      nada &      nada &     -0.039216 \\\\\n",
      "21 &     médio &      nada &    básico &     -0.035088 \\\\\n",
      "22 &    básico &      nada &  avançado &     -0.028369 \\\\\n",
      "23 &      nada &     médio &  avançado &      0.000000 \\\\\n",
      "24 &    básico &    básico &  avançado &      0.000000 \\\\\n",
      "25 &     médio &    básico &      nada &      0.000000 \\\\\n",
      "26 &     médio &    básico &    básico &      0.000000 \\\\\n",
      "27 &     médio &      nada &     médio &      0.015152 \\\\\n",
      "28 &      nada &  avançado &    básico &      0.021277 \\\\\n",
      "29 &      nada &  avançado &      nada &      0.023256 \\\\\n",
      "30 &     médio &    básico &     médio &      0.041667 \\\\\n",
      "31 &      nada &  avançado &     médio &      0.056604 \\\\\n",
      "32 &    básico &     médio &  avançado &      0.070175 \\\\\n",
      "33 &     médio &     médio &    básico &      0.083333 \\\\\n",
      "34 &     médio &     médio &      nada &      0.090909 \\\\\n",
      "35 &    básico &  avançado &    básico &      0.098039 \\\\\n",
      "36 &    básico &  avançado &      nada &      0.106383 \\\\\n",
      "37 &     médio &     médio &     médio &      0.111111 \\\\\n",
      "38 &    básico &  avançado &     médio &      0.122807 \\\\\n",
      "39 &     médio &      nada &  avançado &      0.125786 \\\\\n",
      "40 &     médio &    básico &  avançado &      0.140351 \\\\\n",
      "41 &      nada &  avançado &  avançado &      0.145161 \\\\\n",
      "42 &     médio &     médio &  avançado &      0.190476 \\\\\n",
      "43 &    básico &  avançado &  avançado &      0.196970 \\\\\n",
      "44 &     médio &  avançado &    básico &      0.228070 \\\\\n",
      "45 &     médio &  avançado &     médio &      0.238095 \\\\\n",
      "46 &     médio &  avançado &      nada &      0.245283 \\\\\n",
      "47 &  avançado &      nada &    básico &      0.290780 \\\\\n",
      "48 &     médio &  avançado &  avançado &      0.291667 \\\\\n",
      "49 &  avançado &    básico &    básico &      0.294118 \\\\\n",
      "50 &  avançado &      nada &     médio &      0.295597 \\\\\n",
      "51 &  avançado &    básico &     médio &      0.298246 \\\\\n",
      "52 &  avançado &      nada &      nada &      0.317829 \\\\\n",
      "53 &  avançado &    básico &      nada &      0.319149 \\\\\n",
      "54 &  avançado &     médio &     médio &      0.333333 \\\\\n",
      "55 &  avançado &     médio &    básico &      0.333333 \\\\\n",
      "56 &  avançado &    básico &  avançado &      0.348485 \\\\\n",
      "57 &  avançado &      nada &  avançado &      0.349462 \\\\\n",
      "58 &  avançado &     médio &      nada &      0.358491 \\\\\n",
      "59 &  avançado &     médio &  avançado &      0.375000 \\\\\n",
      "60 &  avançado &  avançado &     médio &      0.416667 \\\\\n",
      "61 &  avançado &  avançado &    básico &      0.424242 \\\\\n",
      "62 &  avançado &  avançado &  avançado &      0.444444 \\\\\n",
      "63 &  avançado &  avançado &      nada &      0.451613 \\\\\n",
      "\\bottomrule\n",
      "\\end{tabular}\n",
      "\n"
     ]
    }
   ],
   "source": [
    "result = sorted(list(map(sim_matching, list(r))), key=lambda x: x[\"Similaridade\"])\n",
    "df = pandas.DataFrame(result)\n",
    "print(df.to_latex())"
   ]
  },
  {
   "cell_type": "code",
   "execution_count": 621,
   "metadata": {},
   "outputs": [
    {
     "data": {
      "text/plain": [
       "{'Excel': 'básico', 'PPT': 'médio', 'Word': 'avançado', 'Similaridade': 0.0}"
      ]
     },
     "execution_count": 621,
     "metadata": {},
     "output_type": "execute_result"
    }
   ],
   "source": [
    "sim_matching([1, 2, 3], [1, 2, 3])"
   ]
  },
  {
   "cell_type": "code",
   "execution_count": 622,
   "metadata": {},
   "outputs": [
    {
     "data": {
      "text/plain": [
       "{'Excel': 'avançado',\n",
       " 'PPT': 'médio',\n",
       " 'Word': 'básico',\n",
       " 'Similaridade': 0.02564102564102564}"
      ]
     },
     "execution_count": 622,
     "metadata": {},
     "output_type": "execute_result"
    }
   ],
   "source": [
    "sim_matching([3, 2, 1], [1, 2, 3])"
   ]
  },
  {
   "cell_type": "code",
   "execution_count": 620,
   "metadata": {},
   "outputs": [
    {
     "data": {
      "text/plain": [
       "{'Excel': 'avançado',\n",
       " 'PPT': 'médio',\n",
       " 'Word': 'avançado',\n",
       " 'Similaridade': 0.14285714285714285}"
      ]
     },
     "execution_count": 620,
     "metadata": {},
     "output_type": "execute_result"
    }
   ],
   "source": [
    "sim_matching([3, 2, 3], [0, 2, 3])"
   ]
  },
  {
   "cell_type": "code",
   "execution_count": 547,
   "metadata": {},
   "outputs": [
    {
     "data": {
      "text/plain": [
       "{'Excel': 'médio', 'PPT': 'médio', 'Word': 'avançado', 'Similaridade': 0.5}"
      ]
     },
     "execution_count": 547,
     "metadata": {},
     "output_type": "execute_result"
    }
   ],
   "source": [
    "sim_6([2, 2, 3], [0, 2, 3])"
   ]
  },
  {
   "cell_type": "code",
   "execution_count": 548,
   "metadata": {},
   "outputs": [
    {
     "data": {
      "text/plain": [
       "{'Excel': 'avançado',\n",
       " 'PPT': 'médio',\n",
       " 'Word': 'avançado',\n",
       " 'Similaridade': 0.5714285714285714}"
      ]
     },
     "execution_count": 548,
     "metadata": {},
     "output_type": "execute_result"
    }
   ],
   "source": [
    "sim_6([3, 2, 3], [0, 2, 3])"
   ]
  },
  {
   "cell_type": "code",
   "execution_count": null,
   "metadata": {},
   "outputs": [],
   "source": []
  }
 ],
 "metadata": {
  "kernelspec": {
   "display_name": "Python 3",
   "language": "python",
   "name": "python3"
  },
  "language_info": {
   "codemirror_mode": {
    "name": "ipython",
    "version": 3
   },
   "file_extension": ".py",
   "mimetype": "text/x-python",
   "name": "python",
   "nbconvert_exporter": "python",
   "pygments_lexer": "ipython3",
   "version": "3.8.5"
  }
 },
 "nbformat": 4,
 "nbformat_minor": 4
}
