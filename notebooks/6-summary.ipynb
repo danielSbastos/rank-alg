{
 "cells": [
  {
   "cell_type": "code",
   "execution_count": 162,
   "metadata": {},
   "outputs": [],
   "source": [
    "import math\n",
    "import itertools\n",
    "import pandas"
   ]
  },
  {
   "cell_type": "code",
   "execution_count": 149,
   "metadata": {},
   "outputs": [],
   "source": [
    "enum = { \"nada\": 0, \"básico\": 1, \"médio\": 2, \"avançado\": 3 }\n",
    "inverse_enum = { 0: \"nada\", 1: \"básico\", 2: \"médio\", 3: \"avançado\" }\n",
    "r = itertools.combinations_with_replacement([\n",
    "    enum[\"nada\"],\n",
    "    enum[\"básico\"],\n",
    "    enum[\"médio\"],\n",
    "    enum[\"avançado\"]\n",
    "], 3)\n",
    "r = list(r)"
   ]
  },
  {
   "cell_type": "code",
   "execution_count": 153,
   "metadata": {},
   "outputs": [],
   "source": [
    "def format_result(i, sim):\n",
    "    return {\n",
    "        \"Excel\": inverse_enum[i[0]],\n",
    "        \"PPT\": inverse_enum[i[1]],\n",
    "        \"Word\": inverse_enum[i[2]],\n",
    "        \"Similaridade\": sim\n",
    "    }"
   ]
  },
  {
   "cell_type": "markdown",
   "metadata": {},
   "source": [
    "## Sem match | Pesos iguais"
   ]
  },
  {
   "cell_type": "markdown",
   "metadata": {},
   "source": [
    "$$S_{i} = \\dfrac{\\sum_{k = 0}^N \\frac{r_{ik}}{|L| - 1}C^{r_{ik} - (|L| - 1)}}                                  {\\sum_{k = 0}^N\n",
    "\t\t\tC^{r_{ik} - (|L| - 1)}}$$"
   ]
  },
  {
   "cell_type": "markdown",
   "metadata": {},
   "source": [
    "$$ 0 < C < \\frac{|L| - 1}{|L| - 2} $$"
   ]
  },
  {
   "cell_type": "code",
   "execution_count": 156,
   "metadata": {},
   "outputs": [],
   "source": [
    "def no_match_equal_weights(i, C = [1.4, 1.4, 1.4]):\n",
    "    numerator = 0\n",
    "    denominator = 0\n",
    "    \n",
    "    for _i,  _c in list(zip(i, C)):\n",
    "        denominator += _c**(_i-3)\n",
    "        numerator += (_i/3)*_c**(_i-3)        \n",
    "        \n",
    "    return format_result(i, numerator/denominator)"
   ]
  },
  {
   "cell_type": "markdown",
   "metadata": {},
   "source": [
    "## Sem match | Pesos diferentes"
   ]
  },
  {
   "cell_type": "markdown",
   "metadata": {},
   "source": [
    "$$S_{ij} = \\dfrac{\\sum_{k = 0}^N \\frac{r_{ik}}{|L| -1 } \\cdot (1 + \\frac{r_{jk}}{|L| -1 }) \\cdot C^{r_{ik} - ({|L| -1 })}}                                  {\\sum_{k = 0}^N (1 + \\frac{r_{jk}}{|L| -1 })  \\cdot  C^{r_{ik} - ({|L| -1 })}}$$"
   ]
  },
  {
   "cell_type": "markdown",
   "metadata": {},
   "source": [
    "$$ 0 < C < \\frac{|L| - 1}{|L| - 2} $$"
   ]
  },
  {
   "cell_type": "code",
   "execution_count": 155,
   "metadata": {},
   "outputs": [],
   "source": [
    "def no_match_diff_weights(i, j = [3, 3, 3], C = [1.4, 1.4, 1.4]):\n",
    "    numerator = 0\n",
    "    denominator = 0\n",
    "    \n",
    "    for _i, _j, _c in list(zip(i, j, C)):\n",
    "        denominator += ((_j/3)+1)*_c**(_i-3)\n",
    "        numerator += ((_i/3)*((_j/3)+1))*_c**(_i-3)        \n",
    "        \n",
    "    return format_result(i, numerator/denominator)"
   ]
  },
  {
   "cell_type": "markdown",
   "metadata": {},
   "source": [
    "## Com match | Pesos diferentes"
   ]
  },
  {
   "cell_type": "markdown",
   "metadata": {},
   "source": [
    "$$S_{ij} = \\dfrac{\\sum_{k = 0}^N \\frac{r_{ik} - r_{jk}}{|L| -1 } \\cdot (1 + \\frac{r_{jk}}{|L| -1 }) \\cdot C^{r_{ik} - ({|L| -1 })}}                                  {\\sum_{k = 0}^N (1 + \\frac{r_{jk}}{|L| -1 })  \\cdot  C^{r_{ik} - ({|L| -1 })}}$$"
   ]
  },
  {
   "cell_type": "markdown",
   "metadata": {},
   "source": [
    "$$ 0 < C < \\frac{|L| - 1}{|L| - 2} $$\n",
    "\n",
    "$$ C = \\begin{cases} C, & \\mbox{if } r_{ik} \\leq r_{jk} \\\\ \\frac{1}{C}, & \\mbox{if } r_{ik} > r_{jk} \\end{cases} $$"
   ]
  },
  {
   "cell_type": "code",
   "execution_count": 157,
   "metadata": {},
   "outputs": [],
   "source": [
    "def with_match_diff_weights(i, j = [3, 3, 3], C = [1.4, 1.4, 1.4]):\n",
    "    numerator = 0\n",
    "    denominator = 0\n",
    "    \n",
    "    for _i, _j, _c in list(zip(i, j, C)):\n",
    "        if _i > _j:\n",
    "            _c = 1/_c\n",
    "        denominator +=  ((_j/3)+1)*_c**(_i-3)\n",
    "        numerator += ((_i - _j)/3)*((_j/3)+1)*_c**(_i-3)\n",
    "\n",
    "    return format_result(i, numerator/denominator)"
   ]
  },
  {
   "cell_type": "markdown",
   "metadata": {},
   "source": [
    "# Generalizações\n",
    "\n",
    "\n",
    "### Sem match | Pesos iguais\n",
    "\n",
    "1. Para qualquer valor de $ i_k $, $i_k + 1$ sempre terá um valor de similaridade maior que $i_k$;\n",
    "2. Dado um valor de $i_k$ menor que $|L|- 1$, $C + 1$ sempre resultará em um valor de similaridade maior que $C$;\n",
    "3. Independente do valor de $C$, se $i$ for igual à $|L| - 1$, todos os valores de similaridade serão iguais;\n",
    "4. $S_i \\in\t[0, 1]$\n",
    "\n",
    "### Sem match | Pesos diferentes\n",
    "\n",
    "1. Para um mesmo valor de $ i_k $ entre objetos, um objeto com $ j_k + 1 $ resultará em um valor de similaridade menor que $j_k$. *Motivo: ao aumentar o peso de $j_k$, conhecimentos menores são mais \"penalizados\" e portanto resultam em similaridades menores*;\n",
    "2. Para um mesmo valor de $j_k$ entre objetos, um objeto com $i_k + 1$ resultará em um valor de similaridade maior do que um objeto com $j_k$;\n",
    "3. Para um objeto com $i_k$, $j_k$ e $C$ e outro com $i_k$, $j_k$ e $C + 1$, o primeiro terá um valor de similaridade menor que o segundo;\n",
    "4. Dados objetos com os mesmos valores de $i_k$, para um objeto com todos $j_k$ iguais, um objeto com todos $j_k + 1$ resultará em um valor de similaridade igual ao objeto anterior;\n",
    "5. Para um objeto com todos $i_k$ iguais, o valor de similaridade será o mesmo independente do $j_k$ e $C$;\n",
    "6. $S_{ij} \\in [0, 1]$\n",
    "\n",
    "### Com match | Pesos diferentes\n",
    "\n",
    "*Herda as generalizações 1, 2 e 3 de Sem match | Pesos diferentes*\n",
    "\n",
    "1. Dado que $i_k$ de um objeto é igual à $j_k$, o valor de similaridade será $0$\n",
    "2. Dado que $i_k$ de um objeto é menor que $j_k$, o valor de similaridade será no intervalo $]-1, 0[$\n",
    "3. Dado que $i_k$ de um objeto é maior que $j_k$, o valor de similaridade será no intervalo $]0, 1[$\n",
    "4. $S_{ij} \\in\t [-1,1]$, porém ocupará um subintervalo de módulo igual à $1$, por exemplo, de $-0.55$ a $0.45$ e $-0.9$ a $0.1$\n",
    "\n",
    "------------------------\n",
    "\n",
    "### Pontos importantes\n",
    "\n",
    "- Por que em Com match | Pesos diferentes a constante $C$ é invertido quando $i_k$ é maior que $j_k$?\n",
    "\n",
    "Por causa da possibilidade de um valor negativo. Antes de chegar na inversão, a seguinte tabela definia o comportamento do mérito e o valor de `C`.\n",
    "\n",
    "Supondo que $i_k = 1$\n",
    "\n",
    "- | Match negativo | Match positivo | $$ \\Rightarrow $$ | Match negativo | Match positivo \n",
    "--- | --- | --- | --- | --- | --- \n",
    "C grande | $$ -(5^{-2}) = -0.04 $$ | $$ 5^{-2} = 0.04 $$ | $$ \\Rightarrow $$ | bastante mérito | pouco mérito\n",
    "C pequeno | $$ -(0.7^{-2}) = -2.04 $$ | $$ 0.7^{-2} = 2.04 $$ | $$ \\Rightarrow $$ | pouco mérito | bastante mérito\n",
    "\n",
    "\n",
    "Se o match é negativo e o valor de $C$ for alto, então o mérito é alto também, porém isso não ocorre quando o match é positivo e sim o oposto, por isso o valor de $C$ é invertido quando $i_k$ é maior que $j_k$. Dessa forma, o usuário não precisa inverter manualmente. Assim chega-se na seguinte tabela:\n",
    "\n",
    "- | Match negativo | Match positivo | $$ \\Rightarrow $$ | Match negativo | Match positivo \n",
    "--- | --- | --- | --- | --- | --- \n",
    "C grande | $$ -(5^{-2}) = -0.04 $$ | $$ \\frac{1}{5}^{-2} = 25 $$ | $$ \\Rightarrow $$ | bastante mérito | bastante mérito\n",
    "C pequeno | $$ -(0.7^{-2}) = -2.04 $$ | $$ \\frac{1}{0.7}^{-2} = 0.49 $$ | $$ \\Rightarrow $$ | pouco mérito | pouco mérito\n"
   ]
  },
  {
   "cell_type": "markdown",
   "metadata": {},
   "source": [
    "# Tests"
   ]
  },
  {
   "cell_type": "markdown",
   "metadata": {},
   "source": [
    "#### Candidate (i)\n",
    "\n",
    "Excel | PPT | Word\n",
    "--- | --- | ---\n",
    "0 | 2 | 3\n",
    "3 | 2 | 0\n",
    "0 | 3 | 3\n",
    "1 | 2 | 2\n",
    "0 | 0 | 0\n",
    "1 | 1 | 1\n",
    "2 | 2 | 2\n",
    "3 | 3 | 3\n",
    "0 | 2 | 2\n",
    "3 | 2 | 2\n",
    "\n",
    "#### Company (j)\n",
    "\n",
    "Excel | PPT | Word\n",
    "--- | --- | ---\n",
    "0 | 2 | 3\n",
    "3 | 2 | 0\n",
    "0 | 3 | 3\n",
    "1 | 2 | 2\n",
    "0 | 0 | 0\n",
    "1 | 1 | 1\n",
    "2 | 2 | 2\n",
    "3 | 3 | 3\n",
    "0 | 2 | 2\n",
    "3 | 2 | 2"
   ]
  },
  {
   "cell_type": "code",
   "execution_count": 170,
   "metadata": {},
   "outputs": [],
   "source": [
    "i_s = [\n",
    "    [0 , 2 , 3],\n",
    "    [3 , 2 , 0],\n",
    "    [0 , 3 , 3],\n",
    "    [1 , 2 , 2],\n",
    "    [0 , 0 , 0],\n",
    "    [1 , 1 , 1],\n",
    "    [2 , 2 , 2],\n",
    "    [3 , 3 , 3],\n",
    "    [0 , 2 , 2],\n",
    "    [3 , 2 , 2]\n",
    "]\n",
    "\n",
    "\n",
    "j_s = []\n",
    "for i in i_s:\n",
    "    for j in i_s:\n",
    "       j_s.append([i, j])"
   ]
  },
  {
   "cell_type": "code",
   "execution_count": 165,
   "metadata": {},
   "outputs": [
    {
     "data": {
      "text/html": [
       "<div>\n",
       "<style scoped>\n",
       "    .dataframe tbody tr th:only-of-type {\n",
       "        vertical-align: middle;\n",
       "    }\n",
       "\n",
       "    .dataframe tbody tr th {\n",
       "        vertical-align: top;\n",
       "    }\n",
       "\n",
       "    .dataframe thead th {\n",
       "        text-align: right;\n",
       "    }\n",
       "</style>\n",
       "<table border=\"1\" class=\"dataframe\">\n",
       "  <thead>\n",
       "    <tr style=\"text-align: right;\">\n",
       "      <th></th>\n",
       "      <th>Excel</th>\n",
       "      <th>PPT</th>\n",
       "      <th>Word</th>\n",
       "      <th>Similaridade</th>\n",
       "    </tr>\n",
       "  </thead>\n",
       "  <tbody>\n",
       "    <tr>\n",
       "      <th>0</th>\n",
       "      <td>nada</td>\n",
       "      <td>nada</td>\n",
       "      <td>nada</td>\n",
       "      <td>0.000000</td>\n",
       "    </tr>\n",
       "    <tr>\n",
       "      <th>1</th>\n",
       "      <td>básico</td>\n",
       "      <td>básico</td>\n",
       "      <td>básico</td>\n",
       "      <td>0.333333</td>\n",
       "    </tr>\n",
       "    <tr>\n",
       "      <th>2</th>\n",
       "      <td>nada</td>\n",
       "      <td>médio</td>\n",
       "      <td>médio</td>\n",
       "      <td>0.531165</td>\n",
       "    </tr>\n",
       "    <tr>\n",
       "      <th>3</th>\n",
       "      <td>básico</td>\n",
       "      <td>médio</td>\n",
       "      <td>médio</td>\n",
       "      <td>0.578947</td>\n",
       "    </tr>\n",
       "    <tr>\n",
       "      <th>4</th>\n",
       "      <td>médio</td>\n",
       "      <td>médio</td>\n",
       "      <td>médio</td>\n",
       "      <td>0.666667</td>\n",
       "    </tr>\n",
       "    <tr>\n",
       "      <th>5</th>\n",
       "      <td>nada</td>\n",
       "      <td>médio</td>\n",
       "      <td>avançado</td>\n",
       "      <td>0.710145</td>\n",
       "    </tr>\n",
       "    <tr>\n",
       "      <th>6</th>\n",
       "      <td>avançado</td>\n",
       "      <td>médio</td>\n",
       "      <td>nada</td>\n",
       "      <td>0.710145</td>\n",
       "    </tr>\n",
       "    <tr>\n",
       "      <th>7</th>\n",
       "      <td>avançado</td>\n",
       "      <td>médio</td>\n",
       "      <td>médio</td>\n",
       "      <td>0.803922</td>\n",
       "    </tr>\n",
       "    <tr>\n",
       "      <th>8</th>\n",
       "      <td>nada</td>\n",
       "      <td>avançado</td>\n",
       "      <td>avançado</td>\n",
       "      <td>0.845869</td>\n",
       "    </tr>\n",
       "    <tr>\n",
       "      <th>9</th>\n",
       "      <td>avançado</td>\n",
       "      <td>avançado</td>\n",
       "      <td>avançado</td>\n",
       "      <td>1.000000</td>\n",
       "    </tr>\n",
       "  </tbody>\n",
       "</table>\n",
       "</div>"
      ],
      "text/plain": [
       "      Excel       PPT      Word  Similaridade\n",
       "0      nada      nada      nada      0.000000\n",
       "1    básico    básico    básico      0.333333\n",
       "2      nada     médio     médio      0.531165\n",
       "3    básico     médio     médio      0.578947\n",
       "4     médio     médio     médio      0.666667\n",
       "5      nada     médio  avançado      0.710145\n",
       "6  avançado     médio      nada      0.710145\n",
       "7  avançado     médio     médio      0.803922\n",
       "8      nada  avançado  avançado      0.845869\n",
       "9  avançado  avançado  avançado      1.000000"
      ]
     },
     "execution_count": 165,
     "metadata": {},
     "output_type": "execute_result"
    }
   ],
   "source": [
    "result = sorted(list(map(no_match_equal_weights, i_s)), key=lambda x: x[\"Similaridade\"])\n",
    "df = pandas.DataFrame(result)\n",
    "df"
   ]
  },
  {
   "cell_type": "code",
   "execution_count": 215,
   "metadata": {},
   "outputs": [
    {
     "data": {
      "text/plain": [
       "{'Excel': 'básico', 'PPT': 'básico', 'Word': 'básico', 'Similaridade': 0.0}"
      ]
     },
     "execution_count": 215,
     "metadata": {},
     "output_type": "execute_result"
    }
   ],
   "source": [
    "with_match_diff_weights([1, 1, 1], [1, 1, 1], [1.4, 1.4, 1.4])"
   ]
  },
  {
   "cell_type": "code",
   "execution_count": 214,
   "metadata": {},
   "outputs": [
    {
     "data": {
      "text/plain": [
       "{'Excel': 'básico',\n",
       " 'PPT': 'básico',\n",
       " 'Word': 'básico',\n",
       " 'Similaridade': -0.33333333333333326}"
      ]
     },
     "execution_count": 214,
     "metadata": {},
     "output_type": "execute_result"
    }
   ],
   "source": [
    "with_match_diff_weights([1, 1, 1], [2, 2, 2], [1.4, 1.4, 1.4])"
   ]
  }
 ],
 "metadata": {
  "kernelspec": {
   "display_name": "Python 3",
   "language": "python",
   "name": "python3"
  },
  "language_info": {
   "codemirror_mode": {
    "name": "ipython",
    "version": 3
   },
   "file_extension": ".py",
   "mimetype": "text/x-python",
   "name": "python",
   "nbconvert_exporter": "python",
   "pygments_lexer": "ipython3",
   "version": "3.8.5"
  }
 },
 "nbformat": 4,
 "nbformat_minor": 4
}
