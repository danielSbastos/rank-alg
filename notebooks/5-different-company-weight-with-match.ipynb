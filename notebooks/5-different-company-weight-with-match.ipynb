{
 "cells": [
  {
   "cell_type": "code",
   "execution_count": 1,
   "metadata": {},
   "outputs": [],
   "source": [
    "import math\n",
    "import itertools"
   ]
  },
  {
   "cell_type": "code",
   "execution_count": 2,
   "metadata": {},
   "outputs": [],
   "source": [
    "enum = { \"nada\": 0, \"básico\": 1, \"médio\": 2, \"avançado\": 3 }\n",
    "inverse_enum = { 0: \"nada\", 1: \"básico\", 2: \"médio\", 3: \"avançado\" }\n",
    "x = [enum[\"nada\"],\n",
    "    enum[\"básico\"],\n",
    "    enum[\"médio\"],\n",
    "    enum[\"avançado\"]]\n",
    "\n",
    "\n",
    "r = [p for p in itertools.product(x, repeat=3)]\n",
    "\n",
    "r = list(r)"
   ]
  },
  {
   "cell_type": "code",
   "execution_count": 3,
   "metadata": {},
   "outputs": [],
   "source": [
    "import pandas"
   ]
  },
  {
   "cell_type": "code",
   "execution_count": 5,
   "metadata": {},
   "outputs": [],
   "source": [
    "def sim_6(i, j = [0, 3, 3], C = [0.4, 1.4, 1.4]):\n",
    "    numerator = 0\n",
    "    denominator = 0\n",
    "    \n",
    "    for _i, _j, _c in list(zip(i, j, C)):\n",
    "        denominator += ((_j/3)+1)*_c**(_i-3)\n",
    "        numerator += ((_i/3)*((_j/3)+1))*_c**(_i-3)        \n",
    "        \n",
    "    return {\n",
    "        \"Excel\": inverse_enum[i[0]],\n",
    "        \"PPT\": inverse_enum[i[1]],\n",
    "        \"Word\": inverse_enum[i[2]],\n",
    "        \"Similaridade\": numerator / denominator\n",
    "    }"
   ]
  },
  {
   "cell_type": "code",
   "execution_count": 13,
   "metadata": {},
   "outputs": [],
   "source": [
    "def sim_matching(i, j = [0, 1, 3], C = [1.4, 1.4, 1.4]):\n",
    "    numerator = 0\n",
    "    denominator = 0\n",
    "    \n",
    "    for _i, _j, _c in list(zip(i, j, C)):\n",
    "        if _i > _j:\n",
    "            _c = 1/_c\n",
    "        denominator +=  ((_j/3)+1)*_c**(_i-3)\n",
    "        numerator += ((_i - _j)/3)*((_j/3)+1)*_c**(_i-3)\n",
    "\n",
    "    return {\n",
    "        \"Excel\": inverse_enum[i[0]],\n",
    "        \"PPT\": inverse_enum[i[1]],\n",
    "        \"Word\": inverse_enum[i[2]],\n",
    "        \"Similaridade\": (numerator / denominator)\n",
    "    }"
   ]
  },
  {
   "cell_type": "code",
   "execution_count": 14,
   "metadata": {},
   "outputs": [
    {
     "name": "stdout",
     "output_type": "stream",
     "text": [
      "\\begin{tabular}{llllr}\n",
      "\\toprule\n",
      "{} &     Excel &       PPT &      Word &  Similaridade \\\\\n",
      "\\midrule\n",
      "0  &      nada &      nada &      nada &     -0.564103 \\\\\n",
      "1  &      nada &      nada &    básico &     -0.450216 \\\\\n",
      "2  &      nada &    básico &      nada &     -0.410959 \\\\\n",
      "3  &      nada &    básico &    básico &     -0.329412 \\\\\n",
      "4  &      nada &      nada &     médio &     -0.280028 \\\\\n",
      "5  &      nada &    básico &     médio &     -0.192534 \\\\\n",
      "6  &    básico &      nada &      nada &     -0.074808 \\\\\n",
      "7  &      nada &      nada &  avançado &     -0.056825 \\\\\n",
      "8  &    básico &      nada &    básico &     -0.054498 \\\\\n",
      "9  &      nada &     médio &      nada &     -0.036028 \\\\\n",
      "10 &    básico &    básico &      nada &     -0.022418 \\\\\n",
      "11 &      nada &     médio &    básico &     -0.017853 \\\\\n",
      "12 &    básico &    básico &    básico &     -0.007359 \\\\\n",
      "13 &      nada &    básico &  avançado &      0.000000 \\\\\n",
      "14 &    básico &      nada &     médio &      0.003916 \\\\\n",
      "15 &     médio &      nada &      nada &      0.016254 \\\\\n",
      "16 &     médio &      nada &    básico &      0.031343 \\\\\n",
      "17 &      nada &     médio &     médio &      0.039903 \\\\\n",
      "18 &    básico &    básico &     médio &      0.043536 \\\\\n",
      "19 &  avançado &      nada &      nada &      0.049291 \\\\\n",
      "20 &  avançado &      nada &    básico &      0.062944 \\\\\n",
      "21 &      nada &  avançado &      nada &      0.065946 \\\\\n",
      "22 &     médio &    básico &      nada &      0.072788 \\\\\n",
      "23 &      nada &  avançado &    básico &      0.076749 \\\\\n",
      "24 &     médio &    básico &    básico &      0.081615 \\\\\n",
      "25 &     médio &      nada &     médio &      0.089056 \\\\\n",
      "26 &    básico &      nada &  avançado &      0.110520 \\\\\n",
      "27 &  avançado &    básico &      nada &      0.112545 \\\\\n",
      "28 &  avançado &    básico &    básico &      0.118388 \\\\\n",
      "29 &    básico &     médio &      nada &      0.120006 \\\\\n",
      "30 &    básico &     médio &    básico &      0.122813 \\\\\n",
      "31 &  avançado &      nada &     médio &      0.124152 \\\\\n",
      "32 &     médio &    básico &     médio &      0.130283 \\\\\n",
      "33 &      nada &  avançado &     médio &      0.132007 \\\\\n",
      "34 &    básico &    básico &  avançado &      0.140796 \\\\\n",
      "35 &      nada &     médio &  avançado &      0.147059 \\\\\n",
      "36 &    básico &     médio &     médio &      0.152108 \\\\\n",
      "37 &  avançado &    básico &     médio &      0.168490 \\\\\n",
      "38 &     médio &      nada &  avançado &      0.198503 \\\\\n",
      "39 &    básico &  avançado &    básico &      0.199815 \\\\\n",
      "40 &    básico &  avançado &      nada &      0.202218 \\\\\n",
      "41 &     médio &     médio &    básico &      0.204168 \\\\\n",
      "42 &     médio &     médio &      nada &      0.206904 \\\\\n",
      "43 &    básico &     médio &  avançado &      0.218917 \\\\\n",
      "44 &    básico &  avançado &     médio &      0.225763 \\\\\n",
      "45 &     médio &    básico &  avançado &      0.228743 \\\\\n",
      "46 &     médio &     médio &     médio &      0.229885 \\\\\n",
      "47 &      nada &  avançado &  avançado &      0.240385 \\\\\n",
      "48 &  avançado &      nada &  avançado &      0.240405 \\\\\n",
      "49 &  avançado &     médio &    básico &      0.242329 \\\\\n",
      "50 &  avançado &     médio &      nada &      0.248464 \\\\\n",
      "51 &  avançado &     médio &     médio &      0.266814 \\\\\n",
      "52 &  avançado &    básico &  avançado &      0.271719 \\\\\n",
      "53 &    básico &  avançado &  avançado &      0.291352 \\\\\n",
      "54 &     médio &     médio &  avançado &      0.295359 \\\\\n",
      "55 &     médio &  avançado &    básico &      0.304217 \\\\\n",
      "56 &     médio &  avançado &      nada &      0.315799 \\\\\n",
      "57 &     médio &  avançado &     médio &      0.323417 \\\\\n",
      "58 &  avançado &     médio &  avançado &      0.333333 \\\\\n",
      "59 &  avançado &  avançado &    básico &      0.360379 \\\\\n",
      "60 &  avançado &  avançado &     médio &      0.375527 \\\\\n",
      "61 &  avançado &  avançado &      nada &      0.378822 \\\\\n",
      "62 &     médio &  avançado &  avançado &      0.384977 \\\\\n",
      "63 &  avançado &  avançado &  avançado &      0.435897 \\\\\n",
      "\\bottomrule\n",
      "\\end{tabular}\n",
      "\n"
     ]
    }
   ],
   "source": [
    "result = sorted(list(map(sim_matching, list(r))), key=lambda x: x[\"Similaridade\"])\n",
    "df = pandas.DataFrame(result)\n",
    "print(df.to_latex())"
   ]
  },
  {
   "cell_type": "code",
   "execution_count": 8,
   "metadata": {},
   "outputs": [
    {
     "data": {
      "text/plain": [
       "{'Excel': 'básico',\n",
       " 'PPT': 'avançado',\n",
       " 'Word': 'avançado',\n",
       " 'Similaridade': 0.38271604938271603}"
      ]
     },
     "execution_count": 8,
     "metadata": {},
     "output_type": "execute_result"
    }
   ],
   "source": [
    "sim_6([1, 3, 3], [3, 3, 3], C = [0.2, 1, 1])"
   ]
  },
  {
   "cell_type": "code",
   "execution_count": 9,
   "metadata": {},
   "outputs": [
    {
     "data": {
      "text/plain": [
       "{'Excel': 'básico',\n",
       " 'PPT': 'avançado',\n",
       " 'Word': 'avançado',\n",
       " 'Similaridade': 0.7455470737913485}"
      ]
     },
     "execution_count": 9,
     "metadata": {},
     "output_type": "execute_result"
    }
   ],
   "source": [
    "sim_6([1, 3, 3], [3, 3, 3], C = [0.9, 1, 1])"
   ]
  }
 ],
 "metadata": {
  "kernelspec": {
   "display_name": "Python 3",
   "language": "python",
   "name": "python3"
  },
  "language_info": {
   "codemirror_mode": {
    "name": "ipython",
    "version": 3
   },
   "file_extension": ".py",
   "mimetype": "text/x-python",
   "name": "python",
   "nbconvert_exporter": "python",
   "pygments_lexer": "ipython3",
   "version": "3.8.5"
  }
 },
 "nbformat": 4,
 "nbformat_minor": 4
}
