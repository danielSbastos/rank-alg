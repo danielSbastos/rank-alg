{
 "cells": [
  {
   "cell_type": "code",
   "execution_count": 3,
   "metadata": {},
   "outputs": [],
   "source": [
    "import math\n",
    "import itertools"
   ]
  },
  {
   "cell_type": "code",
   "execution_count": 4,
   "metadata": {},
   "outputs": [],
   "source": [
    "enum = { \"nada\": 0, \"básico\": 1, \"médio\": 2, \"avançado\": 3 }\n",
    "inverse_enum = { 0: \"nada\", 1: \"básico\", 2: \"médio\", 3: \"avançado\" }\n",
    "x = [enum[\"nada\"],\n",
    "    enum[\"básico\"],\n",
    "    enum[\"médio\"],\n",
    "    enum[\"avançado\"]]\n",
    "\n",
    "\n",
    "r = [p for p in itertools.product(x, repeat=3)]\n",
    "\n",
    "r = list(r)"
   ]
  },
  {
   "cell_type": "code",
   "execution_count": 5,
   "metadata": {},
   "outputs": [],
   "source": [
    "import pandas"
   ]
  },
  {
   "cell_type": "code",
   "execution_count": 357,
   "metadata": {},
   "outputs": [],
   "source": [
    "def sim_6(i, j = [0, 3, 3], C = [0.4, 1.4, 1.4]):\n",
    "    numerator = 0\n",
    "    denominator = 0\n",
    "    \n",
    "    for _i, _j, _c in list(zip(i, j, C)):\n",
    "        denominator += ((_j/3)+1)*_c**(_i-3)\n",
    "        numerator += ((_i/3)*((_j/3)+1))*_c**(_i-3)        \n",
    "        \n",
    "    return {\n",
    "        \"Excel\": inverse_enum[i[0]],\n",
    "        \"PPT\": inverse_enum[i[1]],\n",
    "        \"Word\": inverse_enum[i[2]],\n",
    "        \"Similaridade\": numerator / denominator\n",
    "    }"
   ]
  },
  {
   "cell_type": "code",
   "execution_count": 347,
   "metadata": {},
   "outputs": [],
   "source": [
    "def sim_matching(i, j = [0, 3, 3], C = [1.4, 1.4, 1.4]):\n",
    "    numerator = 0\n",
    "    denominator = 0\n",
    "    \n",
    "    for _i, _j, _c in list(zip(i, j, C)):\n",
    "        if _i > _j:\n",
    "            _c = 1/_c\n",
    "        denominator +=  ((_j/3)+1)*_c**(_i-3)\n",
    "        numerator += ((_i - _j)/3)*((_j/3)+1)*_c**(_i-3)\n",
    "\n",
    "    return {\n",
    "        \"Excel\": inverse_enum[i[0]],\n",
    "        \"PPT\": inverse_enum[i[1]],\n",
    "        \"Word\": inverse_enum[i[2]],\n",
    "        \"Similaridade\": (numerator / denominator)\n",
    "    }"
   ]
  },
  {
   "cell_type": "code",
   "execution_count": 358,
   "metadata": {},
   "outputs": [
    {
     "name": "stdout",
     "output_type": "stream",
     "text": [
      "\\begin{tabular}{llllr}\n",
      "\\toprule\n",
      "{} &     Excel &       PPT &      Word &  Similaridade \\\\\n",
      "\\midrule\n",
      "0  &      nada &      nada &      nada &      0.000000 \\\\\n",
      "1  &      nada &      nada &    básico &      0.019577 \\\\\n",
      "2  &      nada &    básico &      nada &      0.019577 \\\\\n",
      "3  &      nada &    básico &    básico &      0.038508 \\\\\n",
      "4  &      nada &      nada &     médio &      0.053557 \\\\\n",
      "5  &      nada &     médio &      nada &      0.053557 \\\\\n",
      "6  &      nada &    básico &     médio &      0.071513 \\\\\n",
      "7  &      nada &     médio &    básico &      0.071513 \\\\\n",
      "8  &      nada &     médio &     médio &      0.103060 \\\\\n",
      "9  &      nada &      nada &  avançado &      0.108969 \\\\\n",
      "10 &      nada &  avançado &      nada &      0.108969 \\\\\n",
      "11 &      nada &    básico &  avançado &      0.125507 \\\\\n",
      "12 &      nada &  avançado &    básico &      0.125507 \\\\\n",
      "13 &      nada &     médio &  avançado &      0.154952 \\\\\n",
      "14 &      nada &  avançado &     médio &      0.154952 \\\\\n",
      "15 &      nada &  avançado &  avançado &      0.203822 \\\\\n",
      "16 &    básico &      nada &      nada &      0.270292 \\\\\n",
      "17 &    básico &      nada &    básico &      0.302961 \\\\\n",
      "18 &    básico &    básico &      nada &      0.302961 \\\\\n",
      "19 &    básico &    básico &    básico &      0.333333 \\\\\n",
      "20 &    básico &      nada &     médio &      0.361075 \\\\\n",
      "21 &    básico &     médio &      nada &      0.361075 \\\\\n",
      "22 &    básico &    básico &     médio &      0.388074 \\\\\n",
      "23 &    básico &     médio &    básico &      0.388074 \\\\\n",
      "24 &  avançado &      nada &      nada &      0.406880 \\\\\n",
      "25 &     médio &      nada &      nada &      0.421117 \\\\\n",
      "26 &    básico &     médio &     médio &      0.437908 \\\\\n",
      "27 &    básico &      nada &  avançado &      0.454772 \\\\\n",
      "28 &    básico &  avançado &      nada &      0.454772 \\\\\n",
      "29 &     médio &      nada &    básico &      0.472270 \\\\\n",
      "30 &     médio &    básico &      nada &      0.472270 \\\\\n",
      "31 &    básico &  avançado &    básico &      0.477160 \\\\\n",
      "32 &    básico &    básico &  avançado &      0.477160 \\\\\n",
      "33 &  avançado &      nada &    básico &      0.487451 \\\\\n",
      "34 &  avançado &    básico &      nada &      0.487451 \\\\\n",
      "35 &     médio &    básico &    básico &      0.516854 \\\\\n",
      "36 &    básico &  avançado &     médio &      0.520295 \\\\\n",
      "37 &    básico &     médio &  avançado &      0.520295 \\\\\n",
      "38 &  avançado &    básico &    básico &      0.552573 \\\\\n",
      "39 &     médio &      nada &     médio &      0.562337 \\\\\n",
      "40 &     médio &     médio &      nada &      0.562337 \\\\\n",
      "41 &    básico &  avançado &  avançado &      0.593496 \\\\\n",
      "42 &     médio &    básico &     médio &      0.597938 \\\\\n",
      "43 &     médio &     médio &    básico &      0.597938 \\\\\n",
      "44 &  avançado &     médio &      nada &      0.618344 \\\\\n",
      "45 &  avançado &      nada &     médio &      0.618344 \\\\\n",
      "46 &  avançado &    básico &     médio &      0.664694 \\\\\n",
      "47 &  avançado &     médio &    básico &      0.664694 \\\\\n",
      "48 &     médio &     médio &     médio &      0.666667 \\\\\n",
      "49 &     médio &      nada &  avançado &      0.701236 \\\\\n",
      "50 &     médio &  avançado &      nada &      0.701236 \\\\\n",
      "51 &     médio &    básico &  avançado &      0.725816 \\\\\n",
      "52 &     médio &  avançado &    básico &      0.725816 \\\\\n",
      "53 &  avançado &     médio &     médio &      0.753086 \\\\\n",
      "54 &     médio &     médio &  avançado &      0.779116 \\\\\n",
      "55 &     médio &  avançado &     médio &      0.779116 \\\\\n",
      "56 &  avançado &      nada &  avançado &      0.804535 \\\\\n",
      "57 &  avançado &  avançado &      nada &      0.804535 \\\\\n",
      "58 &  avançado &    básico &  avançado &      0.830795 \\\\\n",
      "59 &  avançado &  avançado &    básico &      0.830795 \\\\\n",
      "60 &     médio &  avançado &  avançado &      0.871795 \\\\\n",
      "61 &  avançado &     médio &  avançado &      0.892473 \\\\\n",
      "62 &  avançado &  avançado &     médio &      0.892473 \\\\\n",
      "63 &  avançado &  avançado &  avançado &      1.000000 \\\\\n",
      "\\bottomrule\n",
      "\\end{tabular}\n",
      "\n"
     ]
    }
   ],
   "source": [
    "result = sorted(list(map(sim_6, list(r))), key=lambda x: x[\"Similaridade\"])\n",
    "df = pandas.DataFrame(result)\n",
    "print(df.to_latex())"
   ]
  },
  {
   "cell_type": "code",
   "execution_count": 318,
   "metadata": {},
   "outputs": [
    {
     "data": {
      "text/plain": [
       "{'Excel': 'básico',\n",
       " 'PPT': 'avançado',\n",
       " 'Word': 'avançado',\n",
       " 'Similaridade': -0.2222222222222222}"
      ]
     },
     "execution_count": 318,
     "metadata": {},
     "output_type": "execute_result"
    }
   ],
   "source": [
    "sim_matching([1, 3, 3], [3, 3, 3], C = [1, 1, 1])"
   ]
  },
  {
   "cell_type": "code",
   "execution_count": 319,
   "metadata": {},
   "outputs": [
    {
     "data": {
      "text/plain": [
       "{'Excel': 'básico',\n",
       " 'PPT': 'avançado',\n",
       " 'Word': 'avançado',\n",
       " 'Similaridade': -0.07407407407407407}"
      ]
     },
     "execution_count": 319,
     "metadata": {},
     "output_type": "execute_result"
    }
   ],
   "source": [
    "sim_matching([1, 3, 3], [3, 3, 3], C = [2, 1, 1])"
   ]
  }
 ],
 "metadata": {
  "kernelspec": {
   "display_name": "Python 3",
   "language": "python",
   "name": "python3"
  },
  "language_info": {
   "codemirror_mode": {
    "name": "ipython",
    "version": 3
   },
   "file_extension": ".py",
   "mimetype": "text/x-python",
   "name": "python",
   "nbconvert_exporter": "python",
   "pygments_lexer": "ipython3",
   "version": "3.8.5"
  }
 },
 "nbformat": 4,
 "nbformat_minor": 4
}
