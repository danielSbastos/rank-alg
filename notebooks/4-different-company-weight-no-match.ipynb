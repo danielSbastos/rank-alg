{
 "cells": [
  {
   "cell_type": "code",
   "execution_count": 1,
   "metadata": {},
   "outputs": [],
   "source": [
    "import math\n",
    "import itertools"
   ]
  },
  {
   "cell_type": "code",
   "execution_count": 3,
   "metadata": {},
   "outputs": [],
   "source": [
    "enum = { \"nada\": 0, \"básico\": 1, \"médio\": 2, \"avançado\": 3 }\n",
    "inverse_enum = { 0: \"nada\", 1: \"básico\", 2: \"médio\", 3: \"avançado\" }\n",
    "x = [enum[\"nada\"],\n",
    "    enum[\"básico\"],\n",
    "    enum[\"médio\"],\n",
    "    enum[\"avançado\"]]\n",
    "\n",
    "\n",
    "r = [p for p in itertools.product(x, repeat=3)]\n",
    "\n",
    "r = list(r)"
   ]
  },
  {
   "cell_type": "code",
   "execution_count": 4,
   "metadata": {},
   "outputs": [
    {
     "data": {
      "text/plain": [
       "[{'p': (0, 2, 3), 'i': (0, 0, 0), 's': 0.0},\n",
       " {'p': (0, 2, 3), 'i': (0, 0, 1), 's': 0.1480406615534986},\n",
       " {'p': (0, 2, 3), 'i': (0, 1, 0), 's': 0.1480406615534986},\n",
       " {'p': (0, 2, 3), 'i': (1, 0, 0), 's': 0.1480406615534986},\n",
       " {'p': (0, 2, 3), 'i': (0, 1, 1), 's': 0.2538892514715101},\n",
       " {'p': (0, 2, 3), 'i': (1, 0, 1), 's': 0.2538892514715101},\n",
       " {'p': (0, 2, 3), 'i': (1, 1, 0), 's': 0.2538892514715101},\n",
       " {'p': (0, 2, 3), 'i': (1, 1, 1), 's': 0.3333333333333333},\n",
       " {'p': (0, 2, 3), 'i': (0, 0, 2), 's': 0.3738401507441609},\n",
       " {'p': (0, 2, 3), 'i': (0, 2, 0), 's': 0.3738401507441609},\n",
       " {'p': (0, 2, 3), 'i': (2, 0, 0), 's': 0.3738401507441609},\n",
       " {'p': (0, 2, 3), 'i': (0, 1, 2), 's': 0.43384788310314315},\n",
       " {'p': (0, 2, 3), 'i': (0, 2, 1), 's': 0.43384788310314315},\n",
       " {'p': (0, 2, 3), 'i': (1, 0, 2), 's': 0.43384788310314315},\n",
       " {'p': (0, 2, 3), 'i': (1, 2, 0), 's': 0.43384788310314315},\n",
       " {'p': (0, 2, 3), 'i': (2, 0, 1), 's': 0.43384788310314315},\n",
       " {'p': (0, 2, 3), 'i': (2, 1, 0), 's': 0.43384788310314315},\n",
       " {'p': (0, 2, 3), 'i': (1, 2, 1), 's': 0.48137399488683186},\n",
       " {'p': (0, 2, 3), 'i': (2, 1, 1), 's': 0.48137399488683186},\n",
       " {'p': (0, 2, 3), 'i': (1, 1, 2), 's': 0.48137399488683197},\n",
       " {'p': (0, 2, 3), 'i': (0, 2, 2), 's': 0.5574959455388626},\n",
       " {'p': (0, 2, 3), 'i': (2, 0, 2), 's': 0.5574959455388626},\n",
       " {'p': (0, 2, 3), 'i': (2, 2, 0), 's': 0.5574959455388626},\n",
       " {'p': (0, 2, 3), 'i': (1, 2, 2), 's': 0.5872225848048434},\n",
       " {'p': (0, 2, 3), 'i': (2, 1, 2), 's': 0.5872225848048434},\n",
       " {'p': (0, 2, 3), 'i': (2, 2, 1), 's': 0.5872225848048434},\n",
       " {'p': (0, 2, 3), 'i': (2, 2, 2), 's': 0.6666666666666666},\n",
       " {'p': (0, 2, 3), 'i': (0, 0, 3), 's': 0.6710516885975281},\n",
       " {'p': (0, 2, 3), 'i': (0, 3, 0), 's': 0.6710516885975282},\n",
       " {'p': (0, 2, 3), 'i': (3, 0, 0), 's': 0.6710516885975282},\n",
       " {'p': (0, 2, 3), 'i': (0, 1, 3), 's': 0.6907296861574383},\n",
       " {'p': (0, 2, 3), 'i': (0, 3, 1), 's': 0.6907296861574383},\n",
       " {'p': (0, 2, 3), 'i': (1, 0, 3), 's': 0.6907296861574383},\n",
       " {'p': (0, 2, 3), 'i': (1, 3, 0), 's': 0.6907296861574383},\n",
       " {'p': (0, 2, 3), 'i': (3, 0, 1), 's': 0.6907296861574383},\n",
       " {'p': (0, 2, 3), 'i': (3, 1, 0), 's': 0.6907296861574383},\n",
       " {'p': (0, 2, 3), 'i': (1, 1, 3), 's': 0.7071734840774943},\n",
       " {'p': (0, 2, 3), 'i': (1, 3, 1), 's': 0.7071734840774944},\n",
       " {'p': (0, 2, 3), 'i': (3, 1, 1), 's': 0.7071734840774944},\n",
       " {'p': (0, 2, 3), 'i': (0, 2, 3), 's': 0.7574959455388627},\n",
       " {'p': (0, 2, 3), 'i': (0, 3, 2), 's': 0.7574959455388627},\n",
       " {'p': (0, 2, 3), 'i': (2, 0, 3), 's': 0.7574959455388627},\n",
       " {'p': (0, 2, 3), 'i': (2, 3, 0), 's': 0.7574959455388627},\n",
       " {'p': (0, 2, 3), 'i': (3, 0, 2), 's': 0.7574959455388627},\n",
       " {'p': (0, 2, 3), 'i': (3, 2, 0), 's': 0.7574959455388627},\n",
       " {'p': (0, 2, 3), 'i': (1, 2, 3), 's': 0.7671812164364765},\n",
       " {'p': (0, 2, 3), 'i': (2, 1, 3), 's': 0.7671812164364765},\n",
       " {'p': (0, 2, 3), 'i': (2, 3, 1), 's': 0.7671812164364765},\n",
       " {'p': (0, 2, 3), 'i': (3, 2, 1), 's': 0.7671812164364765},\n",
       " {'p': (0, 2, 3), 'i': (1, 3, 2), 's': 0.7671812164364766},\n",
       " {'p': (0, 2, 3), 'i': (3, 1, 2), 's': 0.7671812164364766},\n",
       " {'p': (0, 2, 3), 'i': (2, 3, 2), 's': 0.8147073282201651},\n",
       " {'p': (0, 2, 3), 'i': (3, 2, 2), 's': 0.8147073282201651},\n",
       " {'p': (0, 2, 3), 'i': (2, 2, 3), 's': 0.8147073282201652},\n",
       " {'p': (0, 2, 3), 'i': (3, 3, 1), 's': 0.8908292788721959},\n",
       " {'p': (0, 2, 3), 'i': (0, 3, 3), 's': 0.8908292788721961},\n",
       " {'p': (0, 2, 3), 'i': (1, 3, 3), 's': 0.8908292788721961},\n",
       " {'p': (0, 2, 3), 'i': (3, 0, 3), 's': 0.8908292788721961},\n",
       " {'p': (0, 2, 3), 'i': (3, 1, 3), 's': 0.8908292788721961},\n",
       " {'p': (0, 2, 3), 'i': (3, 3, 0), 's': 0.8908292788721961},\n",
       " {'p': (0, 2, 3), 'i': (2, 3, 3), 's': 0.9205559181381767},\n",
       " {'p': (0, 2, 3), 'i': (3, 2, 3), 's': 0.9205559181381767},\n",
       " {'p': (0, 2, 3), 'i': (3, 3, 2), 's': 0.9205559181381767},\n",
       " {'p': (0, 2, 3), 'i': (3, 3, 3), 's': 1.0}]"
      ]
     },
     "execution_count": 4,
     "metadata": {},
     "output_type": "execute_result"
    }
   ],
   "source": [
    "C = 1.59791167272282585987\n",
    "\n",
    "def sim(i):\n",
    "    numerator = sum(list(map(\n",
    "        lambda _i: ((_i)/3)*(C**((_i-3))),      \n",
    "        i\n",
    "    )))\n",
    "    denominator = sum(list(map(lambda _i: C**((_i-3)),i)))\n",
    "    return { \"p\": (0, 2, 3) ,\"i\": i, \"s\": numerator / denominator }\n",
    "\n",
    "sorted(list(map(sim, list(r))), key=lambda x: x[\"s\"])"
   ]
  },
  {
   "cell_type": "code",
   "execution_count": 17,
   "metadata": {},
   "outputs": [],
   "source": [
    "def sim_2(i, j):\n",
    "    numerator = 0\n",
    "    denominator = 0\n",
    "    for _i, _j in list(zip(i, j)):\n",
    "        numerator += ((_i)/3)*(C**(_i-3))*(C**(_j-3))\n",
    "        denominator += (C**(_i-3))*(C**(_j-3))\n",
    "\n",
    "    return { \"i\": i, \"j\": j, \"s\": numerator / denominator }"
   ]
  },
  {
   "cell_type": "code",
   "execution_count": 63,
   "metadata": {},
   "outputs": [],
   "source": [
    "def sim_3(i, j):\n",
    "    numerator = 0\n",
    "    denominator = 0\n",
    "    for _i, _j in list(zip(i, j)):\n",
    "        numerator += ((_i)/3)*(C**(_i-3))*((_j+1)/4)\n",
    "        denominator += (C**(_i-3))*((_j+1)/4)\n",
    "    \n",
    "    s = denominator if denominator == 0 else numerator / denominator \n",
    "    return { \"i\": i, \"j\": j, \"s\": s }"
   ]
  },
  {
   "cell_type": "code",
   "execution_count": 66,
   "metadata": {},
   "outputs": [],
   "source": [
    "def sim_4(i, j):\n",
    "    numerator = 0\n",
    "    denominator = 0\n",
    "    for _i, _j in list(zip(i, j)):\n",
    "        numerator += ((_i)/3)*((C**(_i-3)) + (_j/3))\n",
    "        denominator += ((C**(_i-3)) + (_j/3))\n",
    "    \n",
    "    s = denominator if denominator == 0 else numerator / denominator \n",
    "    return { \"i\": i, \"j\": j, \"s\": s }"
   ]
  },
  {
   "cell_type": "code",
   "execution_count": 82,
   "metadata": {},
   "outputs": [],
   "source": [
    "def sim_5(i, j):\n",
    "    numerator = 0\n",
    "    denominator = 0\n",
    "    for _i, _j in list(zip(i, j)):\n",
    "        numerator += ((_j)/3)*(C**(_i-3))\n",
    "        denominator += (C**(_i-3))\n",
    "    \n",
    "    s = denominator if denominator == 0 else numerator / denominator \n",
    "    return { \"i\": i, \"j\": j, \"s\": s }"
   ]
  },
  {
   "cell_type": "code",
   "execution_count": 90,
   "metadata": {},
   "outputs": [],
   "source": [
    "C = 1.5\n",
    "\n",
    "def sim_6(i, j = (0, 0, 0)):\n",
    "    numerator = 0\n",
    "    denominator = 0\n",
    "    \n",
    "    for _i, _j in list(zip(i, j))trat:\n",
    "        denominator += C**(_i-3)\n",
    "        numerator += ((_i*(_j+1))/12)*(C**(_i-3))\n",
    "        \n",
    "    return { \"Excel\": inverse_enum[i[0]], \"PPT\": inverse_enum[i[1]], \"Word\": inverse_enum[i[2]], \"Similaridade\": numerator / denominator }"
   ]
  },
  {
   "cell_type": "code",
   "execution_count": 55,
   "metadata": {},
   "outputs": [],
   "source": [
    "import pandas\n"
   ]
  },
  {
   "cell_type": "code",
   "execution_count": 91,
   "metadata": {
    "scrolled": true
   },
   "outputs": [
    {
     "name": "stdout",
     "output_type": "stream",
     "text": [
      "\\begin{tabular}{llllr}\n",
      "\\toprule\n",
      "{} &     Excel &       PPT &      Word &  Similaridade \\\\\n",
      "\\midrule\n",
      "0  &      nada &      nada &      nada &      0.000000 \\\\\n",
      "1  &      nada &      nada &    básico &      0.035714 \\\\\n",
      "2  &      nada &    básico &      nada &      0.035714 \\\\\n",
      "3  &    básico &      nada &      nada &      0.035714 \\\\\n",
      "4  &      nada &    básico &    básico &      0.062500 \\\\\n",
      "5  &    básico &      nada &    básico &      0.062500 \\\\\n",
      "6  &    básico &    básico &      nada &      0.062500 \\\\\n",
      "7  &    básico &    básico &    básico &      0.083333 \\\\\n",
      "8  &      nada &      nada &     médio &      0.088235 \\\\\n",
      "9  &      nada &     médio &      nada &      0.088235 \\\\\n",
      "10 &     médio &      nada &      nada &      0.088235 \\\\\n",
      "11 &      nada &    básico &     médio &      0.105263 \\\\\n",
      "12 &      nada &     médio &    básico &      0.105263 \\\\\n",
      "13 &    básico &      nada &     médio &      0.105263 \\\\\n",
      "14 &    básico &     médio &      nada &      0.105263 \\\\\n",
      "15 &     médio &      nada &    básico &      0.105263 \\\\\n",
      "16 &     médio &    básico &      nada &      0.105263 \\\\\n",
      "17 &    básico &     médio &    básico &      0.119048 \\\\\n",
      "18 &     médio &    básico &    básico &      0.119048 \\\\\n",
      "19 &    básico &    básico &     médio &      0.119048 \\\\\n",
      "20 &      nada &     médio &     médio &      0.136364 \\\\\n",
      "21 &     médio &      nada &     médio &      0.136364 \\\\\n",
      "22 &     médio &     médio &      nada &      0.136364 \\\\\n",
      "23 &    básico &     médio &     médio &      0.145833 \\\\\n",
      "24 &     médio &    básico &     médio &      0.145833 \\\\\n",
      "25 &     médio &     médio &    básico &      0.145833 \\\\\n",
      "26 &      nada &      nada &  avançado &      0.156977 \\\\\n",
      "27 &      nada &  avançado &      nada &      0.156977 \\\\\n",
      "28 &  avançado &      nada &      nada &      0.156977 \\\\\n",
      "29 &      nada &    básico &  avançado &      0.164894 \\\\\n",
      "30 &      nada &  avançado &    básico &      0.164894 \\\\\n",
      "31 &    básico &      nada &  avançado &      0.164894 \\\\\n",
      "32 &    básico &  avançado &      nada &      0.164894 \\\\\n",
      "33 &  avançado &      nada &    básico &      0.164894 \\\\\n",
      "34 &  avançado &    básico &      nada &      0.164894 \\\\\n",
      "35 &     médio &     médio &     médio &      0.166667 \\\\\n",
      "36 &    básico &    básico &  avançado &      0.171569 \\\\\n",
      "37 &    básico &  avançado &    básico &      0.171569 \\\\\n",
      "38 &  avançado &    básico &    básico &      0.171569 \\\\\n",
      "39 &      nada &     médio &  avançado &      0.183962 \\\\\n",
      "40 &      nada &  avançado &     médio &      0.183962 \\\\\n",
      "41 &     médio &      nada &  avançado &      0.183962 \\\\\n",
      "42 &     médio &  avançado &      nada &      0.183962 \\\\\n",
      "43 &  avançado &      nada &     médio &      0.183962 \\\\\n",
      "44 &  avançado &     médio &      nada &      0.183962 \\\\\n",
      "45 &    básico &     médio &  avançado &      0.188596 \\\\\n",
      "46 &    básico &  avançado &     médio &      0.188596 \\\\\n",
      "47 &     médio &    básico &  avançado &      0.188596 \\\\\n",
      "48 &  avançado &    básico &     médio &      0.188596 \\\\\n",
      "49 &     médio &  avançado &    básico &      0.188596 \\\\\n",
      "50 &  avançado &     médio &    básico &      0.188596 \\\\\n",
      "51 &     médio &     médio &  avançado &      0.202381 \\\\\n",
      "52 &     médio &  avançado &     médio &      0.202381 \\\\\n",
      "53 &  avançado &     médio &     médio &      0.202381 \\\\\n",
      "54 &      nada &  avançado &  avançado &      0.217742 \\\\\n",
      "55 &  avançado &      nada &  avançado &      0.217742 \\\\\n",
      "56 &  avançado &  avançado &      nada &      0.217742 \\\\\n",
      "57 &    básico &  avançado &  avançado &      0.219697 \\\\\n",
      "58 &  avançado &    básico &  avançado &      0.219697 \\\\\n",
      "59 &  avançado &  avançado &    básico &      0.219697 \\\\\n",
      "60 &     médio &  avançado &  avançado &      0.229167 \\\\\n",
      "61 &  avançado &     médio &  avançado &      0.229167 \\\\\n",
      "62 &  avançado &  avançado &     médio &      0.229167 \\\\\n",
      "63 &  avançado &  avançado &  avançado &      0.250000 \\\\\n",
      "\\bottomrule\n",
      "\\end{tabular}\n",
      "\n"
     ]
    }
   ],
   "source": [
    "result = sorted(list(map(sim_6, list(r))), key=lambda x: x[\"Similaridade\"])\n",
    "df = pandas.DataFrame(result)\n",
    "print(df.to_latex())\n",
    "\n"
   ]
  },
  {
   "cell_type": "code",
   "execution_count": null,
   "metadata": {},
   "outputs": [],
   "source": []
  }
 ],
 "metadata": {
  "kernelspec": {
   "display_name": "Python 3",
   "language": "python",
   "name": "python3"
  },
  "language_info": {
   "codemirror_mode": {
    "name": "ipython",
    "version": 3
   },
   "file_extension": ".py",
   "mimetype": "text/x-python",
   "name": "python",
   "nbconvert_exporter": "python",
   "pygments_lexer": "ipython3",
   "version": "3.8.5"
  }
 },
 "nbformat": 4,
 "nbformat_minor": 4
}
