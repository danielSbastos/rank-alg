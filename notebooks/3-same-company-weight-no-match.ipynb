{
 "cells": [
  {
   "cell_type": "markdown",
   "metadata": {},
   "source": [
    "## Os melhores"
   ]
  },
  {
   "cell_type": "code",
   "execution_count": 1,
   "metadata": {},
   "outputs": [],
   "source": [
    "import math\n",
    "import itertools"
   ]
  },
  {
   "cell_type": "code",
   "execution_count": 2,
   "metadata": {
    "scrolled": true
   },
   "outputs": [],
   "source": [
    "enum = { \"nada\": 0, \"básico\": 1, \"médio\": 2, \"avançado\": 3 }\n",
    "inverse_enum = { 0: \"nada\", 1: \"básico\", 2: \"médio\", 3: \"avançado\" }\n",
    "r = itertools.combinations_with_replacement([\n",
    "    enum[\"nada\"],\n",
    "    enum[\"básico\"],\n",
    "    enum[\"médio\"],\n",
    "    enum[\"avançado\"]\n",
    "], 3)\n",
    "r = list(r)\n",
    "\n",
    "#for i in r:\n",
    "#    print('\\hline')\n",
    "#    print(' & '.join([str(x) for x in i]) + ' \\\\\\\\')"
   ]
  },
  {
   "cell_type": "markdown",
   "metadata": {},
   "source": [
    "$$S_{i} = \\dfrac{\\sum_{k = 0}^N \\frac{r_{ik}}{k_{max}}C^{r_{ik} - k_{max}}}                                  {\\sum_{k = 0}^N\n",
    "\t\t\tC^{r_{ik} - k_{max}}}$$"
   ]
  },
  {
   "cell_type": "code",
   "execution_count": 3,
   "metadata": {},
   "outputs": [
    {
     "data": {
      "text/plain": [
       "[{'i': ['nada', 'nada', 'nada'], 's': 0.0},\n",
       " {'i': ['nada', 'nada', 'básico'], 's': 0.1480406615534986},\n",
       " {'i': ['nada', 'básico', 'básico'], 's': 0.2538892514715101},\n",
       " {'i': ['básico', 'básico', 'básico'], 's': 0.3333333333333333},\n",
       " {'i': ['nada', 'nada', 'médio'], 's': 0.3738401507441609},\n",
       " {'i': ['nada', 'básico', 'médio'], 's': 0.43384788310314315},\n",
       " {'i': ['básico', 'básico', 'médio'], 's': 0.48137399488683197},\n",
       " {'i': ['nada', 'médio', 'médio'], 's': 0.5574959455388626},\n",
       " {'i': ['básico', 'médio', 'médio'], 's': 0.5872225848048434},\n",
       " {'i': ['médio', 'médio', 'médio'], 's': 0.6666666666666666},\n",
       " {'i': ['nada', 'nada', 'avançado'], 's': 0.6710516885975281},\n",
       " {'i': ['nada', 'básico', 'avançado'], 's': 0.6907296861574383},\n",
       " {'i': ['básico', 'básico', 'avançado'], 's': 0.7071734840774943},\n",
       " {'i': ['nada', 'médio', 'avançado'], 's': 0.7574959455388627},\n",
       " {'i': ['básico', 'médio', 'avançado'], 's': 0.7671812164364765},\n",
       " {'i': ['médio', 'médio', 'avançado'], 's': 0.8147073282201652},\n",
       " {'i': ['nada', 'avançado', 'avançado'], 's': 0.8908292788721961},\n",
       " {'i': ['básico', 'avançado', 'avançado'], 's': 0.8908292788721961},\n",
       " {'i': ['médio', 'avançado', 'avançado'], 's': 0.9205559181381767},\n",
       " {'i': ['avançado', 'avançado', 'avançado'], 's': 1.0}]"
      ]
     },
     "execution_count": 3,
     "metadata": {},
     "output_type": "execute_result"
    }
   ],
   "source": [
    "#C = 1.59791167272282585987\n",
    "\n",
    "def sim(i):\n",
    "    numerator = sum(list(map(\n",
    "        lambda _i: ((_i)/3)*(C**((_i-3))),      \n",
    "        i\n",
    "    )))\n",
    "    denominator = sum(list(map(lambda _i: C**((_i-3)),i)))\n",
    "    return { \"i\": list(map(lambda x: inverse_enum[x], i)), \"s\": numerator / denominator }\n",
    "\n",
    "sorted(list(map(sim, list(r))), key=lambda x: x[\"s\"])\n",
    "\n",
    "#for i in a:\n",
    "#    print('\\hline')\n",
    "#    b = ' & '.join([str(x) for x in i['i']]) + ' & ' + str(i['s']) + ' \\\\\\\\'\n",
    "#    print(b)"
   ]
  },
  {
   "cell_type": "code",
   "execution_count": 6,
   "metadata": {},
   "outputs": [
    {
     "data": {
      "text/plain": [
       "{'i': ['médio', 'avançado'], 's': 0.8716918143009947}"
      ]
     },
     "execution_count": 6,
     "metadata": {},
     "output_type": "execute_result"
    }
   ],
   "source": [
    "sim((2, 3))"
   ]
  },
  {
   "cell_type": "code",
   "execution_count": null,
   "metadata": {},
   "outputs": [],
   "source": []
  }
 ],
 "metadata": {
  "kernelspec": {
   "display_name": "Python 3",
   "language": "python",
   "name": "python3"
  },
  "language_info": {
   "codemirror_mode": {
    "name": "ipython",
    "version": 3
   },
   "file_extension": ".py",
   "mimetype": "text/x-python",
   "name": "python",
   "nbconvert_exporter": "python",
   "pygments_lexer": "ipython3",
   "version": "3.8.5"
  }
 },
 "nbformat": 4,
 "nbformat_minor": 4
}
