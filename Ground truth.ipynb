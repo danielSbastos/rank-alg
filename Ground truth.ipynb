{
 "cells": [
  {
   "cell_type": "markdown",
   "metadata": {},
   "source": [
    "## Os melhores"
   ]
  },
  {
   "cell_type": "code",
   "execution_count": 2,
   "metadata": {},
   "outputs": [],
   "source": [
    "import math\n",
    "import itertools"
   ]
  },
  {
   "cell_type": "code",
   "execution_count": 23,
   "metadata": {},
   "outputs": [],
   "source": [
    "enum = { \"nada\": 0, \"básico\": 1, \"intermediário\": 2, \"avançado\": 3 }\n",
    "r = itertools.combinations_with_replacement([\n",
    "    enum[\"nada\"],\n",
    "    enum[\"básico\"],\n",
    "    enum[\"intermediário\"],\n",
    "    enum[\"avançado\"]\n",
    "], 4)\n",
    "r = list(r)"
   ]
  },
  {
   "cell_type": "markdown",
   "metadata": {},
   "source": [
    "$$S_{ij} = \\dfrac{\\sum_{k = 0}^N \\frac{i_k}{k_{max}}k_{max}^{\\frac{i_k}{k_{max}}-1}}{\\sum_{k = 0}^N\n",
    "\t\t\tk_{max}^{\\frac{i_k}{k_{max}}-1}}$$"
   ]
  },
  {
   "cell_type": "code",
   "execution_count": 45,
   "metadata": {},
   "outputs": [],
   "source": [
    "def sim(i):\n",
    "    numerator = sum(list(map(\n",
    "        lambda _i: ((_i)/3)*(3**((_i/3)-1)),\n",
    "        i\n",
    "    )))\n",
    "    denominator = sum(list(map(lambda _i: 3**((_i/3)-1),i)))\n",
    "    return { \"i\": i, \"s\": numerator / denominator }"
   ]
  },
  {
   "cell_type": "code",
   "execution_count": 47,
   "metadata": {},
   "outputs": [
    {
     "data": {
      "text/plain": [
       "[{'i': (0, 0, 0, 0), 's': 0.0},\n",
       " {'i': (0, 0, 0, 1), 's': 0.10822216292901068},\n",
       " {'i': (0, 0, 1, 1), 's': 0.19684714560462532},\n",
       " {'i': (0, 1, 1, 1), 's': 0.27075607440428895},\n",
       " {'i': (0, 0, 0, 2), 's': 0.272972375457416},\n",
       " {'i': (1, 1, 1, 1), 's': 0.3333333333333333},\n",
       " {'i': (0, 0, 1, 2), 's': 0.3381672696031117},\n",
       " {'i': (0, 1, 1, 2), 's': 0.3936942912092507},\n",
       " {'i': (1, 1, 1, 2), 's': 0.44155549626234397},\n",
       " {'i': (0, 0, 2, 2), 's': 0.45022234080864526},\n",
       " {'i': (0, 1, 2, 2), 's': 0.49287932699601683},\n",
       " {'i': (0, 0, 0, 3), 's': 0.5},\n",
       " {'i': (1, 1, 2, 2), 's': 0.5301804789379587},\n",
       " {'i': (0, 0, 1, 3), 's': 0.5403003747032797},\n",
       " {'i': (0, 2, 2, 2), 's': 0.5745888335269281},\n",
       " {'i': (0, 1, 1, 3), 's': 0.5754230820028097},\n",
       " {'i': (1, 2, 2, 2), 's': 0.6040894077376223},\n",
       " {'i': (1, 1, 1, 3), 's': 0.6063057087907492},\n",
       " {'i': (0, 0, 2, 3), 's': 0.6195862447869087},\n",
       " {'i': (0, 1, 2, 3), 's': 0.6470694864132707},\n",
       " {'i': (2, 2, 2, 2), 's': 0.6666666666666666},\n",
       " {'i': (1, 1, 2, 3), 's': 0.671500602936445},\n",
       " {'i': (0, 2, 2, 3), 's': 0.7075155006354747},\n",
       " {'i': (1, 2, 2, 3), 's': 0.727027624542584},\n",
       " {'i': (0, 0, 3, 3), 's': 0.75},\n",
       " {'i': (0, 1, 3, 3), 's': 0.7676567486896922},\n",
       " {'i': (2, 2, 2, 3), 's': 0.7748888295956773},\n",
       " {'i': (1, 1, 3, 3), 's': 0.7835556741419787},\n",
       " {'i': (0, 2, 3, 3), 's': 0.8135081892028747},\n",
       " {'i': (1, 2, 3, 3), 's': 0.82621266032935},\n",
       " {'i': (2, 2, 3, 3), 's': 0.8635138122712921},\n",
       " {'i': (0, 3, 3, 3), 's': 0.9000000000000001},\n",
       " {'i': (1, 3, 3, 3), 's': 0.9079221668602615},\n",
       " {'i': (2, 3, 3, 3), 's': 0.9374227410709557},\n",
       " {'i': (3, 3, 3, 3), 's': 1.0}]"
      ]
     },
     "execution_count": 47,
     "metadata": {},
     "output_type": "execute_result"
    }
   ],
   "source": [
    "sorted(list(map(sim, list(r))), key=lambda x: x[\"s\"])"
   ]
  },
  {
   "cell_type": "code",
   "execution_count": 8,
   "metadata": {},
   "outputs": [
    {
     "data": {
      "text/html": [
       "<iframe src=\"https://www.geogebra.org/3d/unhmfhzj\" width=\"900\" height=\"1000\"></iframe>\n"
      ],
      "text/plain": [
       "<IPython.core.display.HTML object>"
      ]
     },
     "metadata": {},
     "output_type": "display_data"
    }
   ],
   "source": [
    "%%html\n",
    "<iframe src=\"https://www.geogebra.org/3d/unhmfhzj\" width=\"900\" height=\"1000\"></iframe>"
   ]
  },
  {
   "cell_type": "code",
   "execution_count": null,
   "metadata": {},
   "outputs": [],
   "source": []
  }
 ],
 "metadata": {
  "kernelspec": {
   "display_name": "Python 3",
   "language": "python",
   "name": "python3"
  },
  "language_info": {
   "codemirror_mode": {
    "name": "ipython",
    "version": 3
   },
   "file_extension": ".py",
   "mimetype": "text/x-python",
   "name": "python",
   "nbconvert_exporter": "python",
   "pygments_lexer": "ipython3",
   "version": "3.8.5"
  }
 },
 "nbformat": 4,
 "nbformat_minor": 4
}
